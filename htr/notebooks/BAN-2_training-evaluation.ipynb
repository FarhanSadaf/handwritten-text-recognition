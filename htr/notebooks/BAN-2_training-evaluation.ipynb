{
 "cells": [
  {
   "cell_type": "code",
   "execution_count": 1,
   "metadata": {},
   "outputs": [
    {
     "name": "stdout",
     "output_type": "stream",
     "text": [
      "D:\\ML\\Projects\\htr\\htr-github\n"
     ]
    }
   ],
   "source": [
    "'''\n",
    "Location of 'project' directory.\n",
    "'''\n",
    "import os\n",
    "\n",
    "os.chdir('..')\n",
    "os.chdir('..')\n",
    "\n",
    "BASE_DIR = os.getcwd()\n",
    "\n",
    "# BASE_DIR is working directory for this notebook\n",
    "print(os.getcwd())"
   ]
  },
  {
   "cell_type": "markdown",
   "metadata": {},
   "source": [
    "## Import libraries"
   ]
  },
  {
   "cell_type": "code",
   "execution_count": 2,
   "metadata": {},
   "outputs": [],
   "source": [
    "import string\n",
    "import json\n",
    "import numpy as np\n",
    "import matplotlib.pyplot as plt\n",
    "\n",
    "from htr.generator import DataGenerator\n",
    "from htr.network import *\n",
    "\n",
    "from htr.evaluation import ocr_metrics\n",
    "\n",
    "from tensorflow.keras.models import Model\n",
    "\n",
    "# Load the TensorBoard notebook extension\n",
    "%load_ext tensorboard"
   ]
  },
  {
   "cell_type": "markdown",
   "metadata": {},
   "source": [
    "***Filepaths***"
   ]
  },
  {
   "cell_type": "code",
   "execution_count": 3,
   "metadata": {},
   "outputs": [],
   "source": [
    "dataset_path = os.path.join(BASE_DIR, 'htr', 'data', 'BanglaWriting.hdf5')\n",
    "output_path = os.path.join(BASE_DIR, 'htr', 'data', 'output-bangla')\n",
    "target_path = os.path.join(output_path, 'checkpoint_weights_bangla.hdf5')"
   ]
  },
  {
   "cell_type": "markdown",
   "metadata": {},
   "source": [
    "***Parameters***"
   ]
  },
  {
   "cell_type": "code",
   "execution_count": 4,
   "metadata": {},
   "outputs": [],
   "source": [
    "input_size = (1024, 128, 1)\n",
    "max_text_len = 128\n",
    "batch_size = 128\n",
    "epochs = 50\n",
    "\n",
    "bangla_chars = json.load(open(os.path.join(BASE_DIR, 'htr', 'data', 'bangla-characters.json')))\n",
    "charset = ''.join(bangla_chars) + string.punctuation + ' '"
   ]
  },
  {
   "cell_type": "markdown",
   "metadata": {},
   "source": [
    "***DataGenerator class***"
   ]
  },
  {
   "cell_type": "code",
   "execution_count": 5,
   "metadata": {},
   "outputs": [
    {
     "name": "stdout",
     "output_type": "stream",
     "text": [
      "Images: {'train': 20373, 'val': 424, 'test': 424}\n"
     ]
    }
   ],
   "source": [
    "generator = DataGenerator(dataset_path=dataset_path, \n",
    "                          input_size=input_size, \n",
    "                          batch_size=batch_size, \n",
    "                          max_text_len=max_text_len, \n",
    "                          charset=charset)\n",
    "\n",
    "print('Images:', generator._size)"
   ]
  },
  {
   "cell_type": "markdown",
   "metadata": {},
   "source": [
    "## Model"
   ]
  },
  {
   "cell_type": "code",
   "execution_count": 6,
   "metadata": {
    "scrolled": true
   },
   "outputs": [
    {
     "name": "stdout",
     "output_type": "stream",
     "text": [
      "Model: \"functional_1\"\n",
      "_________________________________________________________________\n",
      "Layer (type)                 Output Shape              Param #   \n",
      "=================================================================\n",
      "input (InputLayer)           [(None, 1024, 128, 1)]    0         \n",
      "_________________________________________________________________\n",
      "conv2d (Conv2D)              (None, 1024, 128, 16)     160       \n",
      "_________________________________________________________________\n",
      "batch_normalization (BatchNo (None, 1024, 128, 16)     64        \n",
      "_________________________________________________________________\n",
      "leaky_re_lu (LeakyReLU)      (None, 1024, 128, 16)     0         \n",
      "_________________________________________________________________\n",
      "max_pooling2d (MaxPooling2D) (None, 512, 64, 16)       0         \n",
      "_________________________________________________________________\n",
      "conv2d_1 (Conv2D)            (None, 512, 64, 32)       4640      \n",
      "_________________________________________________________________\n",
      "batch_normalization_1 (Batch (None, 512, 64, 32)       128       \n",
      "_________________________________________________________________\n",
      "leaky_re_lu_1 (LeakyReLU)    (None, 512, 64, 32)       0         \n",
      "_________________________________________________________________\n",
      "max_pooling2d_1 (MaxPooling2 (None, 256, 32, 32)       0         \n",
      "_________________________________________________________________\n",
      "dropout (Dropout)            (None, 256, 32, 32)       0         \n",
      "_________________________________________________________________\n",
      "conv2d_2 (Conv2D)            (None, 256, 32, 48)       13872     \n",
      "_________________________________________________________________\n",
      "batch_normalization_2 (Batch (None, 256, 32, 48)       192       \n",
      "_________________________________________________________________\n",
      "leaky_re_lu_2 (LeakyReLU)    (None, 256, 32, 48)       0         \n",
      "_________________________________________________________________\n",
      "max_pooling2d_2 (MaxPooling2 (None, 128, 16, 48)       0         \n",
      "_________________________________________________________________\n",
      "dropout_1 (Dropout)          (None, 128, 16, 48)       0         \n",
      "_________________________________________________________________\n",
      "conv2d_3 (Conv2D)            (None, 128, 16, 64)       27712     \n",
      "_________________________________________________________________\n",
      "batch_normalization_3 (Batch (None, 128, 16, 64)       256       \n",
      "_________________________________________________________________\n",
      "leaky_re_lu_3 (LeakyReLU)    (None, 128, 16, 64)       0         \n",
      "_________________________________________________________________\n",
      "dropout_2 (Dropout)          (None, 128, 16, 64)       0         \n",
      "_________________________________________________________________\n",
      "conv2d_4 (Conv2D)            (None, 128, 16, 80)       46160     \n",
      "_________________________________________________________________\n",
      "batch_normalization_4 (Batch (None, 128, 16, 80)       320       \n",
      "_________________________________________________________________\n",
      "leaky_re_lu_4 (LeakyReLU)    (None, 128, 16, 80)       0         \n",
      "_________________________________________________________________\n",
      "reshape (Reshape)            (None, 128, 1280)         0         \n",
      "_________________________________________________________________\n",
      "bidirectional (Bidirectional (None, 128, 512)          3147776   \n",
      "_________________________________________________________________\n",
      "bidirectional_1 (Bidirection (None, 128, 512)          1574912   \n",
      "_________________________________________________________________\n",
      "bidirectional_2 (Bidirection (None, 128, 512)          1574912   \n",
      "_________________________________________________________________\n",
      "bidirectional_3 (Bidirection (None, 128, 512)          1574912   \n",
      "_________________________________________________________________\n",
      "bidirectional_4 (Bidirection (None, 128, 512)          1574912   \n",
      "_________________________________________________________________\n",
      "dropout_3 (Dropout)          (None, 128, 512)          0         \n",
      "_________________________________________________________________\n",
      "dense (Dense)                (None, 128, 132)          67716     \n",
      "=================================================================\n",
      "Total params: 9,608,644\n",
      "Trainable params: 9,608,164\n",
      "Non-trainable params: 480\n",
      "_________________________________________________________________\n"
     ]
    }
   ],
   "source": [
    "inputs, outputs = puigcerver(input_size=input_size, d_model=generator.tokenizer.vocab_size + 1)\n",
    "\n",
    "model = Model(inputs=inputs, outputs=outputs)\n",
    "model.summary()"
   ]
  },
  {
   "cell_type": "code",
   "execution_count": 7,
   "metadata": {},
   "outputs": [
    {
     "name": "stdout",
     "output_type": "stream",
     "text": [
      "===== Pre-trained weights loaded =====\n"
     ]
    }
   ],
   "source": [
    "model.compile(optimizer=tf.keras.optimizers.Adam(), loss=ctc_loss)\n",
    "\n",
    "# Load weights from target_path\n",
    "if os.path.isfile(target_path):\n",
    "    model.load_weights(target_path)\n",
    "    print('===== Pre-trained weights loaded =====')"
   ]
  },
  {
   "cell_type": "markdown",
   "metadata": {},
   "source": [
    "## Training"
   ]
  },
  {
   "cell_type": "code",
   "execution_count": 23,
   "metadata": {},
   "outputs": [],
   "source": [
    "callbacks = get_callbacks(logdir=output_path, \n",
    "                          checkpoint_filepath=target_path, \n",
    "                          verbose=1, \n",
    "                          stop_patience=20, \n",
    "                          reduce_patience=15)"
   ]
  },
  {
   "cell_type": "code",
   "execution_count": null,
   "metadata": {},
   "outputs": [],
   "source": [
    "model.fit(x=generator.next_train_batch(), \n",
    "          steps_per_epoch=generator._steps['train'], \n",
    "          validation_data=generator.next_val_batch(), \n",
    "          validation_steps=generator._steps['val'], \n",
    "          epochs=epochs, \n",
    "          callbacks=callbacks, \n",
    "          verbose=1)"
   ]
  },
  {
   "cell_type": "markdown",
   "metadata": {},
   "source": [
    "***Training history from CSVLogger callback***"
   ]
  },
  {
   "cell_type": "code",
   "execution_count": 8,
   "metadata": {},
   "outputs": [
    {
     "name": "stdout",
     "output_type": "stream",
     "text": [
      "Min val_loss: 1.6234517097473145\n",
      "Min val_loss epoch: 109\n"
     ]
    },
    {
     "data": {
      "image/png": "[encoded data removed]",
      "text/plain": [
       "<Figure size 720x432 with 1 Axes>"
      ]
     },
     "metadata": {
      "needs_background": "light"
     },
     "output_type": "display_data"
    }
   ],
   "source": [
    "from pandas import read_csv\n",
    "from scipy.signal import savgol_filter\n",
    "from ipywidgets import interact\n",
    "\n",
    "path = os.path.join(output_path, 'epochs.log')\n",
    "if os.path.isfile(path):\n",
    "    history = read_csv(path)\n",
    "    loss = history['loss']\n",
    "    val_loss = history['val_loss']\n",
    "\n",
    "    print('Min val_loss:', np.min(val_loss))\n",
    "    print('Min val_loss epoch:', np.argmin(val_loss))\n",
    "\n",
    "    # Plot training vs validation loss\n",
    "    plt.figure(figsize=(10, 6))\n",
    "    plt.plot(loss, 'r.')\n",
    "    plt.plot(val_loss, 'b.')\n",
    "    # Smoothing\n",
    "    plt.plot(savgol_filter(loss, 11, 3), 'r-', label='Training')\n",
    "    plt.plot(savgol_filter(val_loss, 11, 3), 'b-', label='Validation')\n",
    "    plt.title('Training and validation loss')\n",
    "    plt.xlabel('epochs')\n",
    "    plt.ylabel('loss')\n",
    "    plt.legend()\n",
    "    plt.grid('on')\n",
    "    plt.show()\n",
    "    \n",
    "else:\n",
    "    print(\"File doesn't exist\")"
   ]
  },
  {
   "cell_type": "markdown",
   "metadata": {},
   "source": [
    "***Logs from Tensorboard***\n",
    "\n",
    "If tensorboard gets timed out or doesn't show up, it might be running on http://localhost:6006/."
   ]
  },
  {
   "cell_type": "code",
   "execution_count": null,
   "metadata": {},
   "outputs": [],
   "source": [
    "%tensorboard --logdir {output_path}"
   ]
  },
  {
   "cell_type": "markdown",
   "metadata": {},
   "source": [
    "## Prediction | Evaluation"
   ]
  },
  {
   "cell_type": "markdown",
   "metadata": {},
   "source": [
    "***Validation set***"
   ]
  },
  {
   "cell_type": "code",
   "execution_count": 16,
   "metadata": {},
   "outputs": [
    {
     "name": "stdout",
     "output_type": "stream",
     "text": [
      "           VALIDATION SET           \n",
      "4/4 [==============================] - 19s 5s/step\n",
      "Y_pred shape: (424, 128, 132)\n",
      "WARNING:tensorflow:From c:\\users\\farha\\appdata\\local\\programs\\python\\python38\\lib\\site-packages\\tensorflow\\python\\util\\dispatch.py:201: sparse_to_dense (from tensorflow.python.ops.sparse_ops) is deprecated and will be removed in a future version.\n",
      "Instructions for updating:\n",
      "Create a `tf.sparse.SparseTensor` and use `tf.sparse.to_dense` instead.\n",
      "4/4 [==============================] - 8s 2s/step\n",
      "\n",
      "CTC decoded predictions len: 424\n",
      "Character Error Rate (%) : 20.2973\n",
      "Word Error Rate (%) : 40.8019\n",
      "Sequence Error Rate (%) : 40.8019\n"
     ]
    }
   ],
   "source": [
    "print('           VALIDATION SET           ')\n",
    "Y_pred = model.predict(x=generator.next_val_batch(), steps=generator._steps['val'], verbose=1)\n",
    "print('Y_pred shape:', Y_pred.shape)\n",
    "\n",
    "# Predictions, Probabilities after decoding\n",
    "predictions, probabilities = ctc_decode(Y_pred=Y_pred, batch_size=batch_size, verbose=1)\n",
    "print('\\nCTC decoded predictions len:', len(predictions))\n",
    "\n",
    "pred_texts = [generator.tokenizer.decode(y) for y in predictions]\n",
    "gt_texts = [y.decode() for y in generator.dataset['val']['gt_texts']]\n",
    "\n",
    "cer, wer, ser = ocr_metrics(pred_texts, gt_texts, lower=False) * 100\n",
    "print(f'Character Error Rate (%) : {cer:.4f}')\n",
    "print(f'Word Error Rate (%) : {wer:.4f}')\n",
    "print(f'Sequence Error Rate (%) : {ser:.4f}')"
   ]
  },
  {
   "cell_type": "markdown",
   "metadata": {},
   "source": [
    "***Test set***"
   ]
  },
  {
   "cell_type": "code",
   "execution_count": 17,
   "metadata": {},
   "outputs": [
    {
     "name": "stdout",
     "output_type": "stream",
     "text": [
      "           TEST SET           \n",
      "4/4 [==============================] - 18s 4s/step\n",
      "Y_pred shape: (424, 128, 132)\n",
      "4/4 [==============================] - 10s 3s/step\n",
      "\n",
      "CTC decoded predictions len: 424\n",
      "Character Error Rate (%) : 21.5678\n",
      "Word Error Rate (%) : 40.0943\n",
      "Sequence Error Rate (%) : 40.0943\n"
     ]
    }
   ],
   "source": [
    "print('           TEST SET           ')\n",
    "Y_pred = model.predict(x=generator.next_test_batch(), steps=generator._steps['test'], verbose=1)\n",
    "print('Y_pred shape:', Y_pred.shape)\n",
    "\n",
    "# Predictions, Probabilities after decoding\n",
    "predictions, probabilities = ctc_decode(Y_pred=Y_pred, batch_size=batch_size, verbose=1)\n",
    "print('\\nCTC decoded predictions len:', len(predictions))\n",
    "\n",
    "pred_texts = [generator.tokenizer.decode(y) for y in predictions]\n",
    "gt_texts = [y.decode() for y in generator.dataset['test']['gt_texts']]\n",
    "\n",
    "cer, wer, ser = ocr_metrics(pred_texts, gt_texts, lower=False) * 100\n",
    "print(f'Character Error Rate (%) : {cer:.4f}')\n",
    "print(f'Word Error Rate (%) : {wer:.4f}')\n",
    "print(f'Sequence Error Rate (%) : {ser:.4f}')"
   ]
  },
  {
   "cell_type": "code",
   "execution_count": null,
   "metadata": {},
   "outputs": [],
   "source": []
  }
 ],
 "metadata": {
  "kernelspec": {
   "display_name": "Python 3",
   "language": "python",
   "name": "python3"
  },
  "language_info": {
   "codemirror_mode": {
    "name": "ipython",
    "version": 3
   },
   "file_extension": ".py",
   "mimetype": "text/x-python",
   "name": "python",
   "nbconvert_exporter": "python",
   "pygments_lexer": "ipython3",
   "version": "3.8.1"
  }
 },
 "nbformat": 4,
 "nbformat_minor": 4
}
